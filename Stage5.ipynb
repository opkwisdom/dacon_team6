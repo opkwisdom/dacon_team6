{
 "cells": [
  {
   "cell_type": "markdown",
   "metadata": {},
   "source": [
    "# **스테이지 5. 앙상블 모델**"
   ]
  },
  {
   "cell_type": "markdown",
   "metadata": {},
   "source": [
    "🎈EDA도 마무리를 했으니 3가지 모델링을 만들어 성능비교를 해볼게요!<br>\n",
    "가장 좋은 성능을 내는 모델로 최종 테스트 평가를 할 예정입니다.<br>\n",
    "가장 좋은 모델은 없지만 가장 알맞는 모델은 찾을 수 있습니다.<br>\n",
    "그래서 여러가지 모델을 통해 다양하게 학습을 시켜 테스트를 해볼 필요가 있지요!🎯<br>"
   ]
  },
  {
   "cell_type": "markdown",
   "metadata": {},
   "source": []
  }
 ],
 "metadata": {
  "kernelspec": {
   "display_name": "Python 3",
   "language": "python",
   "name": "python3"
  },
  "language_info": {
   "codemirror_mode": {
    "name": "ipython",
    "version": 3
   },
   "file_extension": ".py",
   "mimetype": "text/x-python",
   "name": "python",
   "nbconvert_exporter": "python",
   "pygments_lexer": "ipython3",
   "version": "3.11.1"
  },
  "orig_nbformat": 4
 },
 "nbformat": 4,
 "nbformat_minor": 2
}
